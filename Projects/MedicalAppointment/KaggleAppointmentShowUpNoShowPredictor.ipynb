{
  "cells": [
    {
      "metadata": {
        "_uuid": "20a358201709055c88ef27617deb90e3c6b211d4"
      },
      "cell_type": "markdown",
      "source": "<a id=\"Section_Title\"></a>\n# ** Data Analysis of the Boston Marathon Finishers by Gender**",
      "outputs": [],
      "execution_count": null
    },
    {
      "metadata": {
        "_uuid": "ad41852d9777121ea4014f4b2891496f55f9d488"
      },
      "cell_type": "markdown",
      "source": "The objective of this analysis is to develop a model to determine whether a patiente will show up to an appointment or not based on information about the patient demographics, clinical details as well as information about the appointment. \nThe following is the roadmap of the study:\n1. [Data Assessment](#section_DataAssesment)\n2. [Data Exploration](#section_DataExploration)\n3. [Predictive Models](#section_PredictiveModels)\n> * [Random Forest](#section_RandomForest)\n> * [Gradient Boost](#section_GradientBoost)\n> * [XGBoost](#section_XGBoost)\n> * [XGBoost - Grid Search Optimization](#section_XGBoost_Optimization)\n4. [Results](#section_Results)\n5. [Conclusion and Next Steps](#section_Conclusion)",
      "outputs": [],
      "execution_count": null
    },
    {
      "metadata": {
        "_uuid": "c99679de0a662d35b588b6e6c4164150d7241619"
      },
      "cell_type": "markdown",
      "source": "<a id=\"section_DataAssesment\"></a>\n## **Data Assessment** ",
      "outputs": [],
      "execution_count": null
    },
    {
      "metadata": {
        "_cell_guid": "a05c535d-c586-4c2e-98f7-53409e12426c",
        "_uuid": "397c41e0f79bee1fab12ed6093da6539921e9b5d",
        "collapsed": true,
        "trusted": true
      },
      "cell_type": "code",
      "source": "# Importing relevant libraries \nimport matplotlib\n%matplotlib inline\nmatplotlib.rcParams['figure.figsize'] = (10, 6)\nimport pandas as pd\nimport numpy as np\nimport scipy.stats\nimport pylab as plt\nfrom matplotlib.colors import LogNorm\n\nfrom sklearn.ensemble import RandomForestClassifier, GradientBoostingClassifier\nfrom sklearn.model_selection import train_test_split\nfrom sklearn.metrics import confusion_matrix, classification_report, roc_curve, auc\nfrom sklearn.model_selection import GridSearchCV\n\nimport xgboost as xgb",
      "execution_count": 1,
      "outputs": []
    },
    {
      "metadata": {
        "_cell_guid": "df085e10-149c-4ddf-8736-193adb14129a",
        "_uuid": "a13f38cf49b73edf44e50f8bbb1c97c7f3753dfc",
        "collapsed": true,
        "trusted": true
      },
      "cell_type": "code",
      "source": "data = pd.read_csv('../input/noshowappointments/KaggleV2-May-2016.csv',dtype={'PatientId': object})",
      "execution_count": 2,
      "outputs": []
    },
    {
      "metadata": {
        "_cell_guid": "d99e11cb-4811-4be0-844f-d1e018c5f5bc",
        "_uuid": "95c170f5b758aa2800287f3cf5ab89d08bb63849",
        "trusted": true
      },
      "cell_type": "code",
      "source": "data.head(10)",
      "execution_count": 3,
      "outputs": [
        {
          "output_type": "execute_result",
          "execution_count": 3,
          "data": {
            "text/plain": "         PatientId  AppointmentID Gender  DataMarcacaoConsulta  \\\n0   29872499824296        5642903      F  2016-04-29T18:38:08Z   \n1  558997776694438        5642503      M  2016-04-29T16:08:27Z   \n2    4262962299951        5642549      F  2016-04-29T16:19:04Z   \n3     867951213174        5642828      F  2016-04-29T17:29:31Z   \n4    8841186448183        5642494      F  2016-04-29T16:07:23Z   \n5   95985133231274        5626772      F  2016-04-27T08:36:51Z   \n6  733688164476661        5630279      F  2016-04-27T15:05:12Z   \n7    3449833394123        5630575      F  2016-04-27T15:39:58Z   \n8   56394729949972        5638447      F  2016-04-29T08:02:16Z   \n9   78124564369297        5629123      F  2016-04-27T12:48:25Z   \n\n        DataAgendamento  Age      Neighbourhood  Scholarship  Hipertension  \\\n0  2016-04-29T00:00:00Z   62    JARDIM DA PENHA            0             1   \n1  2016-04-29T00:00:00Z   56    JARDIM DA PENHA            0             0   \n2  2016-04-29T00:00:00Z   62      MATA DA PRAIA            0             0   \n3  2016-04-29T00:00:00Z    8  PONTAL DE CAMBURI            0             0   \n4  2016-04-29T00:00:00Z   56    JARDIM DA PENHA            0             1   \n5  2016-04-29T00:00:00Z   76          REPÚBLICA            0             1   \n6  2016-04-29T00:00:00Z   23         GOIABEIRAS            0             0   \n7  2016-04-29T00:00:00Z   39         GOIABEIRAS            0             0   \n8  2016-04-29T00:00:00Z   21         ANDORINHAS            0             0   \n9  2016-04-29T00:00:00Z   19          CONQUISTA            0             0   \n\n   Diabetes  Alcoholism  Handcap  SMS_received No-show  \n0         0           0        0             0      No  \n1         0           0        0             0      No  \n2         0           0        0             0      No  \n3         0           0        0             0      No  \n4         1           0        0             0      No  \n5         0           0        0             0      No  \n6         0           0        0             0     Yes  \n7         0           0        0             0     Yes  \n8         0           0        0             0      No  \n9         0           0        0             0      No  ",
            "text/html": "<div>\n<style>\n    .dataframe thead tr:only-child th {\n        text-align: right;\n    }\n\n    .dataframe thead th {\n        text-align: left;\n    }\n\n    .dataframe tbody tr th {\n        vertical-align: top;\n    }\n</style>\n<table border=\"1\" class=\"dataframe\">\n  <thead>\n    <tr style=\"text-align: right;\">\n      <th></th>\n      <th>PatientId</th>\n      <th>AppointmentID</th>\n      <th>Gender</th>\n      <th>DataMarcacaoConsulta</th>\n      <th>DataAgendamento</th>\n      <th>Age</th>\n      <th>Neighbourhood</th>\n      <th>Scholarship</th>\n      <th>Hipertension</th>\n      <th>Diabetes</th>\n      <th>Alcoholism</th>\n      <th>Handcap</th>\n      <th>SMS_received</th>\n      <th>No-show</th>\n    </tr>\n  </thead>\n  <tbody>\n    <tr>\n      <th>0</th>\n      <td>29872499824296</td>\n      <td>5642903</td>\n      <td>F</td>\n      <td>2016-04-29T18:38:08Z</td>\n      <td>2016-04-29T00:00:00Z</td>\n      <td>62</td>\n      <td>JARDIM DA PENHA</td>\n      <td>0</td>\n      <td>1</td>\n      <td>0</td>\n      <td>0</td>\n      <td>0</td>\n      <td>0</td>\n      <td>No</td>\n    </tr>\n    <tr>\n      <th>1</th>\n      <td>558997776694438</td>\n      <td>5642503</td>\n      <td>M</td>\n      <td>2016-04-29T16:08:27Z</td>\n      <td>2016-04-29T00:00:00Z</td>\n      <td>56</td>\n      <td>JARDIM DA PENHA</td>\n      <td>0</td>\n      <td>0</td>\n      <td>0</td>\n      <td>0</td>\n      <td>0</td>\n      <td>0</td>\n      <td>No</td>\n    </tr>\n    <tr>\n      <th>2</th>\n      <td>4262962299951</td>\n      <td>5642549</td>\n      <td>F</td>\n      <td>2016-04-29T16:19:04Z</td>\n      <td>2016-04-29T00:00:00Z</td>\n      <td>62</td>\n      <td>MATA DA PRAIA</td>\n      <td>0</td>\n      <td>0</td>\n      <td>0</td>\n      <td>0</td>\n      <td>0</td>\n      <td>0</td>\n      <td>No</td>\n    </tr>\n    <tr>\n      <th>3</th>\n      <td>867951213174</td>\n      <td>5642828</td>\n      <td>F</td>\n      <td>2016-04-29T17:29:31Z</td>\n      <td>2016-04-29T00:00:00Z</td>\n      <td>8</td>\n      <td>PONTAL DE CAMBURI</td>\n      <td>0</td>\n      <td>0</td>\n      <td>0</td>\n      <td>0</td>\n      <td>0</td>\n      <td>0</td>\n      <td>No</td>\n    </tr>\n    <tr>\n      <th>4</th>\n      <td>8841186448183</td>\n      <td>5642494</td>\n      <td>F</td>\n      <td>2016-04-29T16:07:23Z</td>\n      <td>2016-04-29T00:00:00Z</td>\n      <td>56</td>\n      <td>JARDIM DA PENHA</td>\n      <td>0</td>\n      <td>1</td>\n      <td>1</td>\n      <td>0</td>\n      <td>0</td>\n      <td>0</td>\n      <td>No</td>\n    </tr>\n    <tr>\n      <th>5</th>\n      <td>95985133231274</td>\n      <td>5626772</td>\n      <td>F</td>\n      <td>2016-04-27T08:36:51Z</td>\n      <td>2016-04-29T00:00:00Z</td>\n      <td>76</td>\n      <td>REPÚBLICA</td>\n      <td>0</td>\n      <td>1</td>\n      <td>0</td>\n      <td>0</td>\n      <td>0</td>\n      <td>0</td>\n      <td>No</td>\n    </tr>\n    <tr>\n      <th>6</th>\n      <td>733688164476661</td>\n      <td>5630279</td>\n      <td>F</td>\n      <td>2016-04-27T15:05:12Z</td>\n      <td>2016-04-29T00:00:00Z</td>\n      <td>23</td>\n      <td>GOIABEIRAS</td>\n      <td>0</td>\n      <td>0</td>\n      <td>0</td>\n      <td>0</td>\n      <td>0</td>\n      <td>0</td>\n      <td>Yes</td>\n    </tr>\n    <tr>\n      <th>7</th>\n      <td>3449833394123</td>\n      <td>5630575</td>\n      <td>F</td>\n      <td>2016-04-27T15:39:58Z</td>\n      <td>2016-04-29T00:00:00Z</td>\n      <td>39</td>\n      <td>GOIABEIRAS</td>\n      <td>0</td>\n      <td>0</td>\n      <td>0</td>\n      <td>0</td>\n      <td>0</td>\n      <td>0</td>\n      <td>Yes</td>\n    </tr>\n    <tr>\n      <th>8</th>\n      <td>56394729949972</td>\n      <td>5638447</td>\n      <td>F</td>\n      <td>2016-04-29T08:02:16Z</td>\n      <td>2016-04-29T00:00:00Z</td>\n      <td>21</td>\n      <td>ANDORINHAS</td>\n      <td>0</td>\n      <td>0</td>\n      <td>0</td>\n      <td>0</td>\n      <td>0</td>\n      <td>0</td>\n      <td>No</td>\n    </tr>\n    <tr>\n      <th>9</th>\n      <td>78124564369297</td>\n      <td>5629123</td>\n      <td>F</td>\n      <td>2016-04-27T12:48:25Z</td>\n      <td>2016-04-29T00:00:00Z</td>\n      <td>19</td>\n      <td>CONQUISTA</td>\n      <td>0</td>\n      <td>0</td>\n      <td>0</td>\n      <td>0</td>\n      <td>0</td>\n      <td>0</td>\n      <td>No</td>\n    </tr>\n  </tbody>\n</table>\n</div>"
          },
          "metadata": {}
        }
      ]
    },
    {
      "metadata": {
        "_uuid": "6396b31a7219d9a911d183d350cc0524f787e1a8"
      },
      "cell_type": "markdown",
      "source": "### Generalities of the data set\nData Dictionary\n* PatientId: Identification Number of the patient - string\n* AppointmentID: Identification Number of Appointment - string\n* Gender: Gender of Patient - string: format {M,F}\n* DateOfAppointment: Date when the appointment takes place - string:format YYYY-MM-DD T HH:mm:ssZ\n* DateOfSchedule: Date when the appointment was scheduled - string:format YYYY-MM-DD T HH:mm:ssZ\n* Age: Age of Patient - integer\n* Neighborhood: Neighborhood of patient address - string\n* Scholarship: whether the patient received external aid - binary\n* Hypertension: whether the patient presents hypertension - binary\n* Diabetes: whether the patient presents diabetes - binary\n* Alchoholism: whether the patient presents alchoholism - binary\n* Handicap: whether the patient presents any kind of handicap - binary\n* SMS: whether the patient received a SMS - binary\n* No-Show: Whether the patient showed up (yes) or not (no) - string: format {Yes,No}",
      "outputs": [],
      "execution_count": null
    },
    {
      "metadata": {
        "_cell_guid": "84c51575-55b1-4a74-8a57-a5f38eae0c72",
        "_uuid": "30bb4290e5edeeff6d4ef5d7ada3665c85877636",
        "trusted": true
      },
      "cell_type": "code",
      "source": "print('Number of items in data set',data.shape[0])\nprint('Number of unique patients', len(np.unique(data['PatientId'])))\nprint('Number of unique appointments', len(np.unique(data['AppointmentID'])),'same as number of datasets')\nprint('Gender Values:', np.unique(data['Gender']))\nprint('Gender distribution: Male', len(data[data['Gender']=='M']), 'Female', len(data[data['Gender']=='F']))\nprint('Age Values: Min',data['Age'].min(), 'Max', data['Age'].max())\nprint('Neighborhood Values:', len(np.unique(data['Neighbourhood'])))",
      "execution_count": 4,
      "outputs": [
        {
          "output_type": "stream",
          "text": "Number of items in data set 110527\nNumber of unique patients 62299\nNumber of unique appointments 110527 same as number of datasets\nGender Values: ['F' 'M']\nGender distribution: Male 38687 Female 71840\nAge Values: Min -1 Max 115\nNeighborhood Values: 81\n",
          "name": "stdout"
        }
      ]
    },
    {
      "metadata": {
        "_uuid": "2edb02fe8d30ed4988a5184d306fb2b57bd8d253"
      },
      "cell_type": "markdown",
      "source": "### Cleaning the Data - Selecting useful Columns and transforming categorical Columns",
      "outputs": [],
      "execution_count": null
    },
    {
      "metadata": {
        "_cell_guid": "7053e4aa-0dd1-472b-9638-98b66738add6",
        "_uuid": "11b42ddc6936f4808b487fdb07fcb9a9aa58c1b6",
        "collapsed": true,
        "trusted": true
      },
      "cell_type": "code",
      "source": "data['AD_year'] = pd.to_datetime(data['DataAgendamento']).dt.year\ndata['AD_month'] = pd.to_datetime(data['DataAgendamento']).dt.month\ndata['AD_week'] = pd.to_datetime(data['DataAgendamento']).dt.week\ndata['AD_dow'] = pd.to_datetime(data['DataAgendamento']).dt.dayofweek\ndata['AD_hour'] = pd.to_datetime(data['DataAgendamento']).dt.hour\ndata['AD_min'] = pd.to_datetime(data['DataAgendamento']).dt.minute\n\ndata['SD_year'] = pd.to_datetime(data['DataMarcacaoConsulta']).dt.year\ndata['SD_month'] = pd.to_datetime(data['DataMarcacaoConsulta']).dt.month\ndata['SD_week'] = pd.to_datetime(data['DataMarcacaoConsulta']).dt.week\ndata['SD_dow'] = pd.to_datetime(data['DataMarcacaoConsulta']).dt.dayofweek\ndata['SD_hour'] = pd.to_datetime(data['DataMarcacaoConsulta']).dt.hour\ndata['SD_min'] = pd.to_datetime(data['DataMarcacaoConsulta']).dt.minute\n\ndata['AD_SD'] = (pd.to_datetime(data['DataAgendamento'])-pd.to_datetime(data['DataMarcacaoConsulta']))/np.timedelta64(1, 'D')",
      "execution_count": 5,
      "outputs": []
    },
    {
      "metadata": {
        "collapsed": true,
        "trusted": true,
        "_uuid": "15d4e6dd34be4da250da3e3114e42d887c663296"
      },
      "cell_type": "code",
      "source": "data['Gender'] = pd.Categorical(data['Gender'])\ndata['GenderB'] = data['Gender'].cat.codes\ndGENDER = dict(enumerate(data['Gender'].cat.categories))",
      "execution_count": 6,
      "outputs": []
    },
    {
      "metadata": {
        "collapsed": true,
        "trusted": true,
        "_uuid": "7f829053182efcdf4dd03c3e4dcbc041cf076753"
      },
      "cell_type": "code",
      "source": "data['Neighbourhood'] = pd.Categorical(data['Neighbourhood'])\ndata['NeighborhoodC'] = data['Neighbourhood'].cat.codes\ndNEIGHBORHOOD = dict(enumerate(data['Neighbourhood'].cat.categories))",
      "execution_count": 7,
      "outputs": []
    },
    {
      "metadata": {
        "collapsed": true,
        "trusted": true,
        "_uuid": "da269a48ab4fd23f551d149a6fc57095448cf069"
      },
      "cell_type": "code",
      "source": "data['No-show'] = pd.Categorical(data['No-show'])\ndata['StatusB'] = data['No-show'].cat.codes\ndSTATUS = dict(enumerate(data['No-show'].cat.categories))",
      "execution_count": 8,
      "outputs": []
    },
    {
      "metadata": {
        "trusted": true,
        "_uuid": "94f3982116235780c42dc8580de6c5ad4671553b"
      },
      "cell_type": "code",
      "source": "data.head()",
      "execution_count": 9,
      "outputs": [
        {
          "output_type": "execute_result",
          "execution_count": 9,
          "data": {
            "text/plain": "         PatientId  AppointmentID Gender  DataMarcacaoConsulta  \\\n0   29872499824296        5642903      F  2016-04-29T18:38:08Z   \n1  558997776694438        5642503      M  2016-04-29T16:08:27Z   \n2    4262962299951        5642549      F  2016-04-29T16:19:04Z   \n3     867951213174        5642828      F  2016-04-29T17:29:31Z   \n4    8841186448183        5642494      F  2016-04-29T16:07:23Z   \n\n        DataAgendamento  Age      Neighbourhood  Scholarship  Hipertension  \\\n0  2016-04-29T00:00:00Z   62    JARDIM DA PENHA            0             1   \n1  2016-04-29T00:00:00Z   56    JARDIM DA PENHA            0             0   \n2  2016-04-29T00:00:00Z   62      MATA DA PRAIA            0             0   \n3  2016-04-29T00:00:00Z    8  PONTAL DE CAMBURI            0             0   \n4  2016-04-29T00:00:00Z   56    JARDIM DA PENHA            0             1   \n\n   Diabetes   ...     SD_year  SD_month  SD_week SD_dow  SD_hour  SD_min  \\\n0         0   ...        2016         4       17      4       18      38   \n1         0   ...        2016         4       17      4       16       8   \n2         0   ...        2016         4       17      4       16      19   \n3         0   ...        2016         4       17      4       17      29   \n4         1   ...        2016         4       17      4       16       7   \n\n      AD_SD  GenderB  NeighborhoodC  StatusB  \n0 -0.776481        0             39        0  \n1 -0.672535        1             39        0  \n2 -0.679907        0             45        0  \n3 -0.728831        0             54        0  \n4 -0.671794        0             39        0  \n\n[5 rows x 30 columns]",
            "text/html": "<div>\n<style>\n    .dataframe thead tr:only-child th {\n        text-align: right;\n    }\n\n    .dataframe thead th {\n        text-align: left;\n    }\n\n    .dataframe tbody tr th {\n        vertical-align: top;\n    }\n</style>\n<table border=\"1\" class=\"dataframe\">\n  <thead>\n    <tr style=\"text-align: right;\">\n      <th></th>\n      <th>PatientId</th>\n      <th>AppointmentID</th>\n      <th>Gender</th>\n      <th>DataMarcacaoConsulta</th>\n      <th>DataAgendamento</th>\n      <th>Age</th>\n      <th>Neighbourhood</th>\n      <th>Scholarship</th>\n      <th>Hipertension</th>\n      <th>Diabetes</th>\n      <th>...</th>\n      <th>SD_year</th>\n      <th>SD_month</th>\n      <th>SD_week</th>\n      <th>SD_dow</th>\n      <th>SD_hour</th>\n      <th>SD_min</th>\n      <th>AD_SD</th>\n      <th>GenderB</th>\n      <th>NeighborhoodC</th>\n      <th>StatusB</th>\n    </tr>\n  </thead>\n  <tbody>\n    <tr>\n      <th>0</th>\n      <td>29872499824296</td>\n      <td>5642903</td>\n      <td>F</td>\n      <td>2016-04-29T18:38:08Z</td>\n      <td>2016-04-29T00:00:00Z</td>\n      <td>62</td>\n      <td>JARDIM DA PENHA</td>\n      <td>0</td>\n      <td>1</td>\n      <td>0</td>\n      <td>...</td>\n      <td>2016</td>\n      <td>4</td>\n      <td>17</td>\n      <td>4</td>\n      <td>18</td>\n      <td>38</td>\n      <td>-0.776481</td>\n      <td>0</td>\n      <td>39</td>\n      <td>0</td>\n    </tr>\n    <tr>\n      <th>1</th>\n      <td>558997776694438</td>\n      <td>5642503</td>\n      <td>M</td>\n      <td>2016-04-29T16:08:27Z</td>\n      <td>2016-04-29T00:00:00Z</td>\n      <td>56</td>\n      <td>JARDIM DA PENHA</td>\n      <td>0</td>\n      <td>0</td>\n      <td>0</td>\n      <td>...</td>\n      <td>2016</td>\n      <td>4</td>\n      <td>17</td>\n      <td>4</td>\n      <td>16</td>\n      <td>8</td>\n      <td>-0.672535</td>\n      <td>1</td>\n      <td>39</td>\n      <td>0</td>\n    </tr>\n    <tr>\n      <th>2</th>\n      <td>4262962299951</td>\n      <td>5642549</td>\n      <td>F</td>\n      <td>2016-04-29T16:19:04Z</td>\n      <td>2016-04-29T00:00:00Z</td>\n      <td>62</td>\n      <td>MATA DA PRAIA</td>\n      <td>0</td>\n      <td>0</td>\n      <td>0</td>\n      <td>...</td>\n      <td>2016</td>\n      <td>4</td>\n      <td>17</td>\n      <td>4</td>\n      <td>16</td>\n      <td>19</td>\n      <td>-0.679907</td>\n      <td>0</td>\n      <td>45</td>\n      <td>0</td>\n    </tr>\n    <tr>\n      <th>3</th>\n      <td>867951213174</td>\n      <td>5642828</td>\n      <td>F</td>\n      <td>2016-04-29T17:29:31Z</td>\n      <td>2016-04-29T00:00:00Z</td>\n      <td>8</td>\n      <td>PONTAL DE CAMBURI</td>\n      <td>0</td>\n      <td>0</td>\n      <td>0</td>\n      <td>...</td>\n      <td>2016</td>\n      <td>4</td>\n      <td>17</td>\n      <td>4</td>\n      <td>17</td>\n      <td>29</td>\n      <td>-0.728831</td>\n      <td>0</td>\n      <td>54</td>\n      <td>0</td>\n    </tr>\n    <tr>\n      <th>4</th>\n      <td>8841186448183</td>\n      <td>5642494</td>\n      <td>F</td>\n      <td>2016-04-29T16:07:23Z</td>\n      <td>2016-04-29T00:00:00Z</td>\n      <td>56</td>\n      <td>JARDIM DA PENHA</td>\n      <td>0</td>\n      <td>1</td>\n      <td>1</td>\n      <td>...</td>\n      <td>2016</td>\n      <td>4</td>\n      <td>17</td>\n      <td>4</td>\n      <td>16</td>\n      <td>7</td>\n      <td>-0.671794</td>\n      <td>0</td>\n      <td>39</td>\n      <td>0</td>\n    </tr>\n  </tbody>\n</table>\n<p>5 rows × 30 columns</p>\n</div>"
          },
          "metadata": {}
        }
      ]
    },
    {
      "metadata": {
        "_uuid": "4ae0a17c726e01fc8eeb185f2a264bde73459d10"
      },
      "cell_type": "markdown",
      "source": "[Top](#Section_Title)",
      "outputs": [],
      "execution_count": null
    },
    {
      "metadata": {
        "_uuid": "72bcc34807add19017f4fb85c0326d1015666b82"
      },
      "cell_type": "markdown",
      "source": "<a id=\"section_DataExploration\"></a>\n## **Data Exploration**",
      "outputs": [],
      "execution_count": null
    },
    {
      "metadata": {
        "trusted": true,
        "_uuid": "9e6cfe79552518ab3f03deef0b393668d27ad01b"
      },
      "cell_type": "code",
      "source": "fig, ax = plt.subplots(ncols=3)\nax[0].hist(data['AD_SD'],bins=100)\nax[0].set_xlabel('Time booking to appointment [D]')\nax[1].hist(data['AD_SD'],bins=100, range=(0,1))\nax[1].set_xlabel('Time booking to appointment [D]')\nax[2].hist(data['AD_SD'],bins=100, range=(-2,0))\nax[2].set_xlabel('Time booking to appointment [D]')\nplt.show()",
      "execution_count": 10,
      "outputs": [
        {
          "output_type": "display_data",
          "data": {
            "text/plain": "<matplotlib.figure.Figure at 0x7f9232feb668>",
            "image/png": "[encoded data removed]"
          },
          "metadata": {}
        }
      ]
    },
    {
      "metadata": {
        "_uuid": "5453e6069a0997340365f8a4bfb942539192985e"
      },
      "cell_type": "markdown",
      "source": "[Top](#Section_Title)",
      "outputs": [],
      "execution_count": null
    },
    {
      "metadata": {
        "_uuid": "b5bfc1996f5bb4232803135559822e641db2a9d5"
      },
      "cell_type": "markdown",
      "source": "<a id=\"section_PredictiveModels\"></a>\n## **Predictive Models**",
      "outputs": [],
      "execution_count": null
    },
    {
      "metadata": {
        "_cell_guid": "5a33b50e-2419-4896-ad55-e248c321eab0",
        "_uuid": "f3576768c3830739c160f05a3625de92ac6e07a5",
        "trusted": true
      },
      "cell_type": "code",
      "source": "data.columns.values",
      "execution_count": 11,
      "outputs": [
        {
          "output_type": "execute_result",
          "execution_count": 11,
          "data": {
            "text/plain": "array(['PatientId', 'AppointmentID', 'Gender', 'DataMarcacaoConsulta',\n       'DataAgendamento', 'Age', 'Neighbourhood', 'Scholarship',\n       'Hipertension', 'Diabetes', 'Alcoholism', 'Handcap', 'SMS_received',\n       'No-show', 'AD_year', 'AD_month', 'AD_week', 'AD_dow', 'AD_hour',\n       'AD_min', 'SD_year', 'SD_month', 'SD_week', 'SD_dow', 'SD_hour',\n       'SD_min', 'AD_SD', 'GenderB', 'NeighborhoodC', 'StatusB'], dtype=object)"
          },
          "metadata": {}
        }
      ]
    },
    {
      "metadata": {
        "collapsed": true,
        "trusted": true,
        "_uuid": "996cfdfee7723f7a70718c75afe1d41faef90fe1"
      },
      "cell_type": "code",
      "source": "features = [ 'Age', 'Scholarship',\n       'Hipertension', 'Diabetes', 'Alcoholism', 'Handcap', 'SMS_received',\n        'AD_year', 'AD_month', 'AD_week', 'AD_dow', 'AD_hour',\n       'AD_min', 'SD_year', 'SD_month', 'SD_week', 'SD_dow', 'SD_hour',\n       'SD_min', 'AD_SD', 'GenderB', 'NeighborhoodC']",
      "execution_count": 12,
      "outputs": []
    },
    {
      "metadata": {
        "_cell_guid": "d39f0809-1fba-43b1-a69a-5a73b2c02690",
        "_uuid": "b1846982067602bd9fc3d6836b5a8c6c360e6e60",
        "collapsed": true,
        "trusted": true
      },
      "cell_type": "code",
      "source": "N_SAMPLE = 10000\nX = data[features][:N_SAMPLE]\ny = data['StatusB'][:N_SAMPLE]",
      "execution_count": 13,
      "outputs": []
    },
    {
      "metadata": {
        "_cell_guid": "0145a544-74cd-43c6-aa63-931db7fefd1a",
        "_uuid": "8e3cd1c7d61b6d05d9b25788a332699cf664cc38",
        "collapsed": true,
        "trusted": true
      },
      "cell_type": "code",
      "source": "X_train, X_test, y_train, y_test = train_test_split(X, y, test_size=0.33, random_state=42)",
      "execution_count": 14,
      "outputs": []
    },
    {
      "metadata": {
        "_uuid": "df1844dfca0afc8f3572557b556236932f770a3b"
      },
      "cell_type": "markdown",
      "source": "<a id=\"section_RandomForest\"></a>\n### Random Forest",
      "outputs": [],
      "execution_count": null
    },
    {
      "metadata": {
        "_cell_guid": "6d608e89-318a-4316-a608-ef915f46c3d9",
        "_uuid": "5a18943d553df8a72086b3bea4352274192f5a83",
        "trusted": true
      },
      "cell_type": "code",
      "source": "rfc = RandomForestClassifier(n_estimators=1000)\nrfc.fit(X_train,y_train)\ny_pred_rf = rfc.predict(X_test)\ny_score_rf = rfc.predict_proba(X_test)[:, 1]\nfpr_rf, tpr_rf, _ = roc_curve(y_test, y_score_rf)\nprint('Random Forest ROC AUC', auc(fpr_rf, tpr_rf))\nprint(classification_report(y_test, y_pred_rf, target_names=['NoShow','ShowUp']))",
      "execution_count": 15,
      "outputs": [
        {
          "output_type": "stream",
          "text": "Random Forest ROC AUC 0.739425588478\n             precision    recall  f1-score   support\n\n     NoShow       0.81      0.98      0.89      2606\n     ShowUp       0.62      0.12      0.20       694\n\navg / total       0.77      0.80      0.74      3300\n\n",
          "name": "stdout"
        }
      ]
    },
    {
      "metadata": {
        "_uuid": "ddd33f91456e29b8da22558145ba38cef6acc59e"
      },
      "cell_type": "markdown",
      "source": "<a id=\"section_GradientBoosting\"></a>\n### Gradient Boosting",
      "outputs": [],
      "execution_count": null
    },
    {
      "metadata": {
        "_cell_guid": "4b199911-83da-4007-86a3-3c6ffd8e80ef",
        "_uuid": "0004a40e81a8539cb8bd804b87b197384a850318",
        "trusted": true
      },
      "cell_type": "code",
      "source": "gbc = GradientBoostingClassifier(n_estimators=1000)\ngbc.fit(X_train,y_train)\ny_pred_gb = gbc.predict(X_test)\ny_score_gb = gbc.predict_proba(X_test)[:,1]\nfpr_gb, tpr_gb, _ = roc_curve(y_test, y_score_gb)\nprint('Gradient Boosting ROC AUC', auc(fpr_gb, tpr_gb))\nprint(classification_report(y_test, y_pred_gb, target_names=['NoShow','ShowUp']))",
      "execution_count": 16,
      "outputs": [
        {
          "output_type": "stream",
          "text": "Gradient Boosting ROC AUC 0.73348136975\n             precision    recall  f1-score   support\n\n     NoShow       0.81      0.94      0.87      2606\n     ShowUp       0.43      0.17      0.25       694\n\navg / total       0.73      0.78      0.74      3300\n\n",
          "name": "stdout"
        }
      ]
    },
    {
      "metadata": {
        "_uuid": "5694abdec3477311f1be00b4c12a21abc2ae971a"
      },
      "cell_type": "markdown",
      "source": "<a id=\"section_XGBoost\"></a>\n### XGBoost",
      "outputs": [],
      "execution_count": null
    },
    {
      "metadata": {
        "_cell_guid": "d1513421-ca8d-4de3-bdc3-737f4d75871c",
        "_uuid": "735cca53b7364be936820f391eb0352bb41560fb",
        "trusted": true
      },
      "cell_type": "code",
      "source": "xgbc = xgb.XGBClassifier()\nxgbc.fit(X_train, y_train)\ny_pred_xgb = xgbc.predict(X_test)\ny_score_xgb = xgbc.predict_proba(X_test)[:,1]\nfpr_xgb, tpr_xgb, _ = roc_curve(y_test, y_score_xgb)\nprint('XGBoost ROC AUC', auc(fpr_xgb, tpr_xgb))\nprint(classification_report(y_test, y_pred_xgb, target_names=['NoShow','ShowUp']))",
      "execution_count": 17,
      "outputs": [
        {
          "output_type": "stream",
          "text": "XGBoost ROC AUC 0.736919456541\n             precision    recall  f1-score   support\n\n     NoShow       0.79      0.99      0.88      2606\n     ShowUp       0.51      0.03      0.06       694\n\navg / total       0.73      0.79      0.71      3300\n\n",
          "name": "stdout"
        }
      ]
    },
    {
      "metadata": {
        "_cell_guid": "ee620f56-04a6-4f11-81aa-ec34d1e5c43f",
        "_uuid": "63f4eb967e5485ccce3c81859c092c82f3fb9b52",
        "trusted": true
      },
      "cell_type": "code",
      "source": "fig, ax = plt.subplots()\nplt.plot([0, 1], [0, 1], 'k--')\nplt.plot(fpr_rf, tpr_rf, label='RF')\nplt.plot(fpr_gb, tpr_gb, label='GB')\nplt.plot(fpr_xgb, tpr_xgb, label='XGB')\nax.set_aspect('equal')\nplt.legend()\nplt.show()",
      "execution_count": 18,
      "outputs": [
        {
          "output_type": "display_data",
          "data": {
            "text/plain": "<matplotlib.figure.Figure at 0x7f92207e80b8>",
            "image/png": "[encoded data removed]"
          },
          "metadata": {}
        }
      ]
    },
    {
      "metadata": {
        "_uuid": "5a5755e957100ebc40d592b32c23c9f3d96d8a93"
      },
      "cell_type": "markdown",
      "source": "<a id=\"section_XGBoost_Optimization\"></a>\n### XGBoost - Grid Search Optimization",
      "outputs": [],
      "execution_count": null
    },
    {
      "metadata": {
        "trusted": true,
        "_uuid": "dcf215eb7fda59df3c56b8a35d15e36bc48670a1"
      },
      "cell_type": "code",
      "source": "model = xgb.XGBClassifier(max_depth=3, n_estimators=400, learning_rate=0.1)\nmodel.fit(X_train, y_train)\ny_pred_xgb = model.predict(X_test)\ny_score_xgb = model.predict_proba(X_test)[:,1]\nfpr_xgb, tpr_xgb, _ = roc_curve(y_test, y_score_xgb)\nprint('XGBoost ROC AUC', auc(fpr_xgb, tpr_xgb))\nprint(classification_report(y_test, y_pred_xgb, target_names=['NoShow','ShowUp']))",
      "execution_count": 19,
      "outputs": [
        {
          "output_type": "stream",
          "text": "XGBoost ROC AUC 0.738373648928\n             precision    recall  f1-score   support\n\n     NoShow       0.80      0.97      0.88      2606\n     ShowUp       0.49      0.10      0.17       694\n\navg / total       0.74      0.79      0.73      3300\n\n",
          "name": "stdout"
        }
      ]
    },
    {
      "metadata": {
        "trusted": true,
        "_uuid": "488486e05bab742cc770853065267545a7342606"
      },
      "cell_type": "code",
      "source": "cv_params = {'max_depth': [3,5,7], 'min_child_weight': [1,3,5]}\nind_params = {'learning_rate': 0.1, 'n_estimators': 100, 'seed':0, 'subsample': 0.8, 'colsample_bytree': 0.8, \n             'objective': 'binary:logistic'}\noptimized_model = GridSearchCV(xgb.XGBClassifier(**ind_params), \n                            cv_params, \n                             scoring = 'accuracy', cv = 5, n_jobs = -1) \noptimized_model.fit(X_train, y_train)\n",
      "execution_count": 20,
      "outputs": [
        {
          "output_type": "execute_result",
          "execution_count": 20,
          "data": {
            "text/plain": "GridSearchCV(cv=5, error_score='raise',\n       estimator=XGBClassifier(base_score=0.5, booster='gbtree', colsample_bylevel=1,\n       colsample_bytree=0.8, gamma=0, learning_rate=0.1, max_delta_step=0,\n       max_depth=3, min_child_weight=1, missing=None, n_estimators=100,\n       n_jobs=1, nthread=None, objective='binary:logistic', random_state=0,\n       reg_alpha=0, reg_lambda=1, scale_pos_weight=1, seed=0, silent=True,\n       subsample=0.8),\n       fit_params=None, iid=True, n_jobs=-1,\n       param_grid={'max_depth': [3, 5, 7], 'min_child_weight': [1, 3, 5]},\n       pre_dispatch='2*n_jobs', refit=True, return_train_score=True,\n       scoring='accuracy', verbose=0)"
          },
          "metadata": {}
        }
      ]
    },
    {
      "metadata": {
        "trusted": true,
        "_uuid": "beed2cb098530d76062424391df339f03237ea01"
      },
      "cell_type": "code",
      "source": "best_optimized_model = optimized_model.best_estimator_",
      "execution_count": 21,
      "outputs": []
    },
    {
      "metadata": {
        "trusted": true,
        "_uuid": "121b348444b629d63aec73079d4d22c3af471383"
      },
      "cell_type": "code",
      "source": "y_pred_xgb = optimized_model.predict(X_test)\ny_score_xgb = optimized_model.predict_proba(X_test)[:,1]\nfpr_xgb, tpr_xgb, _ = roc_curve(y_test, y_score_xgb)\nprint('XGBoost ROC AUC', auc(fpr_xgb, tpr_xgb))\nprint(classification_report(y_test, y_pred_xgb, target_names=['NoShow','ShowUp']))",
      "execution_count": 22,
      "outputs": [
        {
          "output_type": "stream",
          "text": "XGBoost ROC AUC 0.740811494644\n             precision    recall  f1-score   support\n\n     NoShow       0.79      0.99      0.88      2606\n     ShowUp       0.38      0.02      0.04       694\n\navg / total       0.71      0.79      0.70      3300\n\n",
          "name": "stdout"
        }
      ]
    },
    {
      "metadata": {
        "_uuid": "de6c451f1ab9b09b8180fe63c4fe235c4adc7d2c"
      },
      "cell_type": "markdown",
      "source": "[Top](#Section_Title)",
      "outputs": [],
      "execution_count": null
    },
    {
      "metadata": {
        "_uuid": "7775ee2ef1fa1a409457768026080c83b919b57e"
      },
      "cell_type": "markdown",
      "source": "<a id=\"section_Results\"></a>\n## **Results**\nThe three predictive methods explored showed very similar performances. Given the complexity of the problem and the relatively small number of feauters in the data, specially demographic data, the results are very accurate. ",
      "outputs": [],
      "execution_count": null
    },
    {
      "metadata": {
        "_cell_guid": "777c1f22-338d-4c4e-9ab4-63fc68cae27d",
        "_uuid": "3728d7cb1480206af2209fac03f67f2fd90542cd",
        "collapsed": true,
        "trusted": true
      },
      "cell_type": "code",
      "source": "i_index = 2\ndef getAUC_XGB(i_index):\n    slFIELDS = features[:i_index] + features[i_index+1:]\n    X = data[slFIELDS]\n    y = data['StatusB']\n    X_train, X_test, y_train, y_test = train_test_split(X, y, test_size=0.33, random_state=42)\n    xgbc_best = best_optimized_model\n    xgbc_best.fit(X_train, y_train)\n    y_pred_xgb = xgbc_best.predict(X_test)\n    y_score_xgb = xgbc_best.predict_proba(X_test)[:,1]\n    fpr_xgb, tpr_xgb, _ = roc_curve(y_test, y_score_xgb)\n    return auc(fpr_xgb, tpr_xgb)",
      "execution_count": 23,
      "outputs": []
    },
    {
      "metadata": {
        "_cell_guid": "1e898479-0e24-46a1-afdf-631e75a36740",
        "_uuid": "31c97470473f9e5fd3db69c2dce5558759b069a5",
        "trusted": true
      },
      "cell_type": "code",
      "source": "lAUC = []\nlIND = []\nfor ii in range(len(features)):\n    lIND.append(features[ii])\n    lAUC.append(getAUC_XGB(ii))",
      "execution_count": 24,
      "outputs": []
    },
    {
      "metadata": {
        "trusted": true,
        "collapsed": true,
        "_uuid": "cacbe45613f6c2d554042ae99f9daeef7d96276a"
      },
      "cell_type": "code",
      "source": "",
      "execution_count": null,
      "outputs": []
    },
    {
      "metadata": {
        "_cell_guid": "56d1cdf6-0eaa-4414-b706-82103d15930a",
        "_uuid": "a55d65f75772f449c7404759326e3c78a526e424",
        "trusted": true
      },
      "cell_type": "code",
      "source": "plt.scatter(range(len(lIND)),lAUC)\nplt.xticks([ii for ii in range(len(features))], features, rotation='vertical')\nplt.show()",
      "execution_count": 28,
      "outputs": [
        {
          "output_type": "display_data",
          "data": {
            "text/plain": "<matplotlib.figure.Figure at 0x7f92302901d0>",
            "image/png": "[encoded data removed]"
          },
          "metadata": {}
        }
      ]
    },
    {
      "metadata": {
        "_cell_guid": "db9d0a29-2f03-46b0-b01f-4794c82816be",
        "_uuid": "497042ce298f519008978c01288087626fbb1436",
        "trusted": true,
        "scrolled": true
      },
      "cell_type": "code",
      "source": "data_scores = pd.DataFrame({'Feature':lIND, 'Scores':lAUC })\ndata_scores.sort_values('Scores').head()",
      "execution_count": 30,
      "outputs": [
        {
          "output_type": "execute_result",
          "execution_count": 30,
          "data": {
            "text/plain": "          Feature    Scores\n19          AD_SD  0.710474\n0             Age  0.722378\n6    SMS_received  0.731535\n21  NeighborhoodC  0.731991\n17        SD_hour  0.732141",
            "text/html": "<div>\n<style>\n    .dataframe thead tr:only-child th {\n        text-align: right;\n    }\n\n    .dataframe thead th {\n        text-align: left;\n    }\n\n    .dataframe tbody tr th {\n        vertical-align: top;\n    }\n</style>\n<table border=\"1\" class=\"dataframe\">\n  <thead>\n    <tr style=\"text-align: right;\">\n      <th></th>\n      <th>Feature</th>\n      <th>Scores</th>\n    </tr>\n  </thead>\n  <tbody>\n    <tr>\n      <th>19</th>\n      <td>AD_SD</td>\n      <td>0.710474</td>\n    </tr>\n    <tr>\n      <th>0</th>\n      <td>Age</td>\n      <td>0.722378</td>\n    </tr>\n    <tr>\n      <th>6</th>\n      <td>SMS_received</td>\n      <td>0.731535</td>\n    </tr>\n    <tr>\n      <th>21</th>\n      <td>NeighborhoodC</td>\n      <td>0.731991</td>\n    </tr>\n    <tr>\n      <th>17</th>\n      <td>SD_hour</td>\n      <td>0.732141</td>\n    </tr>\n  </tbody>\n</table>\n</div>"
          },
          "metadata": {}
        }
      ]
    },
    {
      "metadata": {
        "_uuid": "75b87b3d8ae8083da744c2fa1e7ba07ea49c5913"
      },
      "cell_type": "markdown",
      "source": "It's clear from the plot that the two features that affect the most our model if we do not include them are AD_SD (the time between scheduleing the the appointment and the actual date of the appointment) and the age of the patient. The next features taht affect the outcome of the predictor are whether the patient received a SMS prior to the appointment, the neighborhood of the patient's address.",
      "outputs": [],
      "execution_count": null
    },
    {
      "metadata": {
        "_cell_guid": "3a0e49a5-5db4-4e69-8191-b206ea22a52a",
        "_uuid": "01ad279a3f667471f4e4045f0d4e2b21d0afe878",
        "collapsed": true
      },
      "cell_type": "markdown",
      "source": "[Top](#Section_Title)",
      "outputs": [],
      "execution_count": null
    },
    {
      "metadata": {
        "collapsed": true,
        "trusted": false,
        "_uuid": "c7d93e2eef87604e4e720c49113ee3ae894e572b"
      },
      "cell_type": "markdown",
      "source": "<a id=\"section_Conclusion\"></a>\n## **Conclusion and Next Steps**\nThe analysis of the show/no-show patterns for a dataset of medical appointment was presented. \nThe three machine learning explored produced good results. The top factors that affected the XGBoost arethe \ntime between the scheduling of the appointment and the appointment, the age of the patient, whether the patient\nreceived an SMS prior to the appointment and the patients neighborhood.\n\nIn order to improve the rate of show-up, its then possible to alert patients that have a long time\nfrom schedule-to-appointment as well as the age.\n[Top](#Section_Title)",
      "outputs": [],
      "execution_count": null
    }
  ],
  "metadata": {
    "kernelspec": {
      "display_name": "Python 3",
      "language": "python",
      "name": "python3"
    },
    "language_info": {
      "name": "python",
      "version": "3.6.1",
      "mimetype": "text/x-python",
      "codemirror_mode": {
        "name": "ipython",
        "version": 3
      },
      "pygments_lexer": "ipython3",
      "nbconvert_exporter": "python",
      "file_extension": ".py"
    }
  },
  "nbformat": 4,
  "nbformat_minor": 1
}